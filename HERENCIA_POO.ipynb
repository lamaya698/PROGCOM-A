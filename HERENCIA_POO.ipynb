{
  "nbformat": 4,
  "nbformat_minor": 0,
  "metadata": {
    "colab": {
      "provenance": [],
      "include_colab_link": true
    },
    "kernelspec": {
      "name": "python3",
      "display_name": "Python 3"
    },
    "language_info": {
      "name": "python"
    }
  },
  "cells": [
    {
      "cell_type": "markdown",
      "metadata": {
        "id": "view-in-github",
        "colab_type": "text"
      },
      "source": [
        "<a href=\"https://colab.research.google.com/github/lamaya698/PROGCOM-A/blob/main/HERENCIA_POO.ipynb\" target=\"_parent\"><img src=\"https://colab.research.google.com/assets/colab-badge.svg\" alt=\"Open In Colab\"/></a>"
      ]
    },
    {
      "cell_type": "code",
      "execution_count": null,
      "metadata": {
        "id": "YkegVZZVjQIJ"
      },
      "outputs": [],
      "source": [
        "class forma:\n",
        "  def __init__(self,color).\n",
        "    self.color = color\n",
        "\n",
        "    def area(self):\n",
        "     return 0\n",
        "\n",
        "    def describir(self):\n",
        "      print(f\"esta forma es de color{self.color}\")\n",
        "\n",
        "      class rectangulo(forma):\n",
        "        def __inint__(self,color,base,altura):\n",
        "          super().__init__(color)\n",
        "          self.base = base\n",
        "          self.altura = altura\n",
        "\n",
        "        def area(self):\n",
        "          return self.base * self.altura\n",
        "\n",
        "        def calcular_perimetro(self):\n",
        "          return 2 * (self.base + self.altura)\n",
        "\n",
        "        class circulo(forma):\n",
        "          def __init__(self,color,radio):\n",
        "            super().__init__(color)\n",
        "            self.radio = radio\n",
        "\n",
        "          def area(self):\n",
        "            return 3.1416 * (self.radio ** 2)\n",
        "            mi_redtangulo=rectangulo(\"verde\",8,6)\n",
        "            mi_circulo=circulo(\"azul, 9\")\n",
        "            print(mi_redtangulo.area())\n",
        "            print(mi_circulo.area())\n",
        "            mi redtangulo.describir()\n",
        "            mi_circulo.describir()\n",
        ""
      ]
    }
  ]
}