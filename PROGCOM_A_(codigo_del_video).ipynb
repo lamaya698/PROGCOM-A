{
  "nbformat": 4,
  "nbformat_minor": 0,
  "metadata": {
    "colab": {
      "provenance": []
    },
    "kernelspec": {
      "name": "python3",
      "display_name": "Python 3"
    },
    "language_info": {
      "name": "python"
    }
  },
  "cells": [
    {
      "cell_type": "code",
      "execution_count": null,
      "metadata": {
        "id": "yI2kmbYKMFJp"
      },
      "outputs": [],
      "source": [
        "\n",
        "\n",
        "def manaso(lado):\n",
        "  print(f\"Manaso vertical a la {lado}\")\n",
        "\n",
        "manaso(\"derecha\")\n",
        "manaso(\"izquierda\")\n",
        "\n",
        "def remolino(lado):\n",
        "  print(f\"remolino horizontal {lado}\")\n",
        "\n",
        "remolino (\"derecha\")\n",
        "remolino (\"izquierda\")\n",
        "\n",
        "def manaso1(repeticiones):\n",
        "    for _ in range(repeticiones):\n",
        "        print(f\"Manaso vertical a la derecha\")\n",
        "        print(f\"Manaso vertical a la izquierda\")\n",
        "\n",
        "def remolino1(lado, repeticiones):\n",
        "    for _ in range(repeticiones):\n",
        "        print(f\"remolino horizontal {lado}\")\n",
        "\n",
        "\n",
        "manaso1(4)\n",
        "manaso(\"izquierda\", 4)\n",
        "\n"
      ]
    }
  ]
}