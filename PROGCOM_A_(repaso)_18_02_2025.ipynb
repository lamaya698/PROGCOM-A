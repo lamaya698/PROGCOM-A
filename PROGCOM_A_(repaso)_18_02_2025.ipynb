{
  "nbformat": 4,
  "nbformat_minor": 0,
  "metadata": {
    "colab": {
      "provenance": []
    },
    "kernelspec": {
      "name": "python3",
      "display_name": "Python 3"
    },
    "language_info": {
      "name": "python"
    }
  },
  "cells": [
    {
      "cell_type": "code",
      "execution_count": null,
      "metadata": {
        "id": "A2nuVWaPhYSW"
      },
      "outputs": [],
      "source": []
    },
    {
      "cell_type": "markdown",
      "source": [
        "estructura de repeticion\n",
        "\n",
        "estructura PARA-FOR\n",
        "\n",
        "FOR :\n",
        "*se debe repetir una operacion\n",
        "*se conoce cuantas veces se debe repetir\n",
        "\n",
        "\n",
        "forma general\n",
        "```\n",
        "for (variable) in range (valor inicial, valor final, paso):\n",
        "aqui se conoce todo lo que se va a repetir n veces\n",
        "```\n",
        "froma especifica(numero de veces)\n",
        "\n",
        "\n",
        "```\n",
        "for (variable) in lista (valor inicial, valor final, paso):\n",
        "aqui se conoce todo lo que se va a repetir n veces```\n",
        "trabaja con listas y diccionarios\n",
        "\n",
        "\n",
        "\n",
        "\n",
        "\n"
      ],
      "metadata": {
        "id": "qNq_R9NAhZFz"
      }
    },
    {
      "cell_type": "code",
      "source": [
        "#hacer tabla de multiplicar del numero n\n",
        "x=int(input(\"ingrese un numero\"))\n",
        "for num in range(1,10,1):\n",
        "    print(f\"{x}x{num}={x*num}\")"
      ],
      "metadata": {
        "colab": {
          "base_uri": "https://localhost:8080/"
        },
        "id": "ykkBHpEclMpp",
        "outputId": "5bbee1aa-d55d-41f8-8d0e-3ed18f5fcf71"
      },
      "execution_count": null,
      "outputs": [
        {
          "output_type": "stream",
          "name": "stdout",
          "text": [
            "ingrese un numero9\n",
            "9x1=9\n",
            "9x2=18\n",
            "9x3=27\n",
            "9x4=36\n",
            "9x5=45\n",
            "9x6=54\n",
            "9x7=63\n",
            "9x8=72\n",
            "9x9=81\n"
          ]
        }
      ]
    },
    {
      "cell_type": "markdown",
      "source": [
        "# Sección nueva"
      ],
      "metadata": {
        "id": "U9UvvF4kypHn"
      }
    },
    {
      "cell_type": "code",
      "source": [
        "lista=[1,2,3,4,5,6,7,8,9,10]\n",
        "for num in lista:\n",
        "  print(f\"{x}x{num}={x*num}\")"
      ],
      "metadata": {
        "colab": {
          "base_uri": "https://localhost:8080/"
        },
        "id": "DaVCzlmZnQuv",
        "outputId": "8c84656c-b9a1-46c6-94e2-dbb2ce41e38c"
      },
      "execution_count": null,
      "outputs": [
        {
          "output_type": "stream",
          "name": "stdout",
          "text": [
            "9x1=9\n",
            "9x2=18\n",
            "9x3=27\n",
            "9x4=36\n",
            "9x5=45\n",
            "9x6=54\n",
            "9x7=63\n",
            "9x8=72\n",
            "9x9=81\n",
            "9x10=90\n"
          ]
        }
      ]
    },
    {
      "cell_type": "code",
      "source": [
        "#obtener el cuadrado de un numero\n",
        "num=int(input(\"ingrese el numero\"))\n",
        "num2=num**2\n",
        "print(f\"{num}^2={num2}\")"
      ],
      "metadata": {
        "colab": {
          "base_uri": "https://localhost:8080/"
        },
        "id": "II9oOaaBhhjK",
        "outputId": "565374d7-b9a2-4b65-8a93-398933f476b3"
      },
      "execution_count": null,
      "outputs": [
        {
          "output_type": "stream",
          "name": "stdout",
          "text": [
            "ingrese el numero44\n",
            "44^2=1936\n"
          ]
        }
      ]
    },
    {
      "cell_type": "code",
      "source": [
        "num=int(input(\"ingrese el numero\"))\n",
        "num2=num**2\n",
        "print(f\"{num}^2={num2}\")\n",
        "num=int(input(\"ingrese el otro numero \"))\n",
        "num2=num**2\n",
        "print(f\"{num}^2={num2}\")"
      ],
      "metadata": {
        "colab": {
          "base_uri": "https://localhost:8080/"
        },
        "id": "mEwRq3rTieOa",
        "outputId": "efdfaf33-f44b-4320-84f3-80acfb930462"
      },
      "execution_count": null,
      "outputs": [
        {
          "output_type": "stream",
          "name": "stdout",
          "text": [
            "ingrese el numero2\n",
            "2^2=4\n",
            "ingrese el otro numero 166\n",
            "166^2=27556\n"
          ]
        }
      ]
    },
    {
      "cell_type": "markdown",
      "source": [
        "metodo break\n",
        "se emplea para romper estructuras de repeticion\n"
      ],
      "metadata": {
        "id": "Z9eXDjHBrWz7"
      }
    },
    {
      "cell_type": "code",
      "source": [
        "colores=[\"azul\",\"negro\",\"verde\",\"rojo,\",\"blanco\"]\n",
        "color_cpu=colores[random.randint(0.4)]\n",
        "print(\"la computadora eligio el color\")\n"
      ],
      "metadata": {
        "id": "8WS2DsbargP8"
      },
      "execution_count": null,
      "outputs": []
    },
    {
      "cell_type": "markdown",
      "source": [
        "##estructura de repeticion while\n",
        "se emplea cuando NO se sabe cuantas veces se debe repetir una operacion\n",
        "1. una condicion inicial\n",
        "2. una condicion final\n",
        "3. un mecanismo que altere la condicion inicial\n",
        "\n",
        "\n",
        "\n",
        "```\n",
        "ci=condicion inicial\n",
        "while(cf)\n",
        "operaciones...\n",
        "mecanismos de alteracion de ci\n",
        "```\n",
        "aveces la condicion final se cambia por true\n",
        "\n",
        "\n",
        "```\n",
        "while true:\n",
        "el modificador de condicion inicial debe dar false\n",
        "```\n",
        "\n",
        "\n"
      ],
      "metadata": {
        "id": "7VkMyw4EwD15"
      }
    }
  ]
}