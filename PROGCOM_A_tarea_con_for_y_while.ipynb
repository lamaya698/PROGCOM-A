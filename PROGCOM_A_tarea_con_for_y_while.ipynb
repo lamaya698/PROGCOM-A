{
  "nbformat": 4,
  "nbformat_minor": 0,
  "metadata": {
    "colab": {
      "provenance": []
    },
    "kernelspec": {
      "name": "python3",
      "display_name": "Python 3"
    },
    "language_info": {
      "name": "python"
    }
  },
  "cells": [
    {
      "cell_type": "code",
      "execution_count": null,
      "metadata": {
        "id": "6aJnVIjNpQXC"
      },
      "outputs": [],
      "source": [
        "# Ejercicio 11: Calcular el IMC y determinar la categoría con \"for\"\n",
        "def calcular_imc_for():\n",
        "    nombre = input(\"Ingresa tu nombre: \")\n",
        "    peso = float(input(\"Ingresa tu peso (kg): \"))\n",
        "    altura = float(input(\"Ingresa tu altura (m): \"))\n",
        "\n",
        "    imc = peso / (altura ** 2)\n",
        "\n",
        "    categorias = [\"Bajo peso\", \"Normal\", \"Sobrepeso\", \"Obesidad\"]\n",
        "    descripciones = [\n",
        "        \"Debes aumentar tu ingesta calórica y hacer ejercicio para ganar peso de forma saludable.\",\n",
        "        \"Mantén una dieta equilibrada y realiza ejercicio regularmente para mantener tu peso.\",\n",
        "        \"Realiza ejercicio y ajusta tu dieta para reducir tu peso de forma saludable.\",\n",
        "        \"Consulta a un médico para recibir orientación y crear un plan para bajar de peso.\"\n",
        "    ]\n",
        "\n",
        "    for i, categoria in enumerate(categorias):\n",
        "        if (categoria == \"Bajo peso\" and imc < 18.5) or \\\n",
        "           (categoria == \"Normal\" and 18.5 <= imc < 24.9) or \\\n",
        "           (categoria == \"Sobrepeso\" and 25 <= imc < 29.9) or \\\n",
        "           (categoria == \"Obesidad\" and imc >= 30):\n",
        "            print(f\"{nombre}, tu IMC es {imc:.2f}. Categoría: {categoria}. {descripciones[i]}\")\n",
        "            break\n",
        "\n",
        "# Llamar a la función\n",
        "calcular_imc_for()\n"
      ]
    },
    {
      "cell_type": "code",
      "source": [
        "# Ejercicio 11: Calcular el IMC y determinar la categoría con \"while\"\n",
        "def calcular_imc_while():\n",
        "    nombre = input(\"Ingresa tu nombre: \")\n",
        "    while True:\n",
        "        try:\n",
        "            peso = float(input(\"Ingresa tu peso (kg): \"))\n",
        "            altura = float(input(\"Ingresa tu altura (m): \"))\n",
        "            break\n",
        "        except ValueError:\n",
        "            print(\"Por favor, ingresa valores numéricos válidos.\")\n",
        "\n",
        "    imc = peso / (altura ** 2)\n",
        "\n",
        "    if imc < 18.5:\n",
        "        categoria = \"Bajo peso\"\n",
        "        descripcion = \"Debes aumentar tu ingesta calórica y hacer ejercicio para ganar peso de forma saludable.\"\n",
        "    elif 18.5 <= imc < 24.9:\n",
        "        categoria = \"Normal\"\n",
        "        descripcion = \"Mantén una dieta equilibrada y realiza ejercicio regularmente para mantener tu peso.\"\n",
        "    elif 25 <= imc < 29.9:\n",
        "        categoria = \"Sobrepeso\"\n",
        "        descripcion = \"Realiza ejercicio y ajusta tu dieta para reducir tu peso de forma saludable.\"\n",
        "    else:\n",
        "        categoria = \"Obesidad\"\n",
        "        descripcion = \"Consulta a un médico para recibir orientación y crear un plan para bajar de peso.\"\n",
        "\n",
        "    print(f\"{nombre}, tu IMC es {imc:.2f}. Categoría: {categoria}. {descripcion}\")\n",
        "\n",
        "# Llamar a la función\n",
        "calcular_imc_while()\n"
      ],
      "metadata": {
        "id": "9RrBGGJVphA2"
      },
      "execution_count": null,
      "outputs": []
    },
    {
      "cell_type": "code",
      "source": [
        "# Ejercicio 12: Simulador de calculadora simple (+, -, *, /) con \"for\"\n",
        "def calculadora_for():\n",
        "    operaciones = [\"+\", \"-\", \"*\", \"/\"]\n",
        "    num1 = float(input(\"Ingresa el primer número: \"))\n",
        "    num2 = float(input(\"Ingresa el segundo número: \"))\n",
        "\n",
        "    for operacion in operaciones:\n",
        "        if operacion == \"+\":\n",
        "            print(f\"{num1} + {num2} = {num1 + num2}\")\n",
        "        elif operacion == \"-\":\n",
        "            print(f\"{num1} - {num2} = {num1 - num2}\")\n",
        "        elif operacion == \"*\":\n",
        "            print(f\"{num1} * {num2} = {num1 * num2}\")\n",
        "        elif operacion == \"/\":\n",
        "            if num2 != 0:\n",
        "                print(f\"{num1} / {num2} = {num1 / num2}\")\n",
        "            else:\n",
        "                print(\"Error: División por cero.\")\n",
        "        break\n",
        "\n",
        "# Llamar a la función\n",
        "calculadora_for()\n"
      ],
      "metadata": {
        "id": "tXYqV2Lhpjsu"
      },
      "execution_count": null,
      "outputs": []
    },
    {
      "cell_type": "code",
      "source": [
        "# Ejercicio 12: Simulador de calculadora simple (+, -, *, /) con \"while\"\n",
        "def calculadora_while():\n",
        "    while True:\n",
        "        try:\n",
        "            num1 = float(input(\"Ingresa el primer número: \"))\n",
        "            num2 = float(input(\"Ingresa el segundo número: \"))\n",
        "            operacion = input(\"Ingresa la operación (+, -, *, /): \")\n",
        "            if operacion == \"+\":\n",
        "                print(f\"Resultado: {num1 + num2}\")\n",
        "            elif operacion == \"-\":\n",
        "                print(f\"Resultado: {num1 - num2}\")\n",
        "            elif operacion == \"*\":\n",
        "                print(f\"Resultado: {num1 * num2}\")\n",
        "            elif operacion == \"/\":\n",
        "                if num2 != 0:\n",
        "                    print(f\"Resultado: {num1 / num2}\")\n",
        "                else:\n",
        "                    print(\"Error: División por cero.\")\n",
        "            else:\n",
        "                print(\"Operación no válida.\")\n",
        "                continue\n",
        "            break\n",
        "        except ValueError:\n",
        "            print(\"Por favor, ingresa números válidos.\")\n",
        "\n",
        "# Llamar a la función\n",
        "calculadora_while()\n"
      ],
      "metadata": {
        "id": "nwkru76Upl0l"
      },
      "execution_count": null,
      "outputs": []
    },
    {
      "cell_type": "code",
      "source": [
        "# Ejercicio 13: Calificación en letras (A, B, C, D, F) con \"for\"\n",
        "def calificacion_for():\n",
        "    notas = [90, 80, 70, 60, 0]\n",
        "    calificaciones = [\"A\", \"B\", \"C\", \"D\", \"F\"]\n",
        "    nota = float(input(\"Ingresa la nota (0-100): \"))\n",
        "\n",
        "    for i in range(len(notas)):\n",
        "        if nota >= notas[i]:\n",
        "            print(f\"Calificación: {calificaciones[i]}\")\n",
        "            break\n",
        "\n",
        "# Llamar a la función\n",
        "calificacion_for()\n"
      ],
      "metadata": {
        "id": "krMsuUKApr4M"
      },
      "execution_count": null,
      "outputs": []
    },
    {
      "cell_type": "code",
      "source": [
        "# Ejercicio 13: Calificación en letras (A, B, C, D, F) con \"while\"\n",
        "def calificacion_while():\n",
        "    while True:\n",
        "        try:\n",
        "            nota = float(input(\"Ingresa la nota (0-100): \"))\n",
        "            if 90 <= nota <= 100:\n",
        "                print(\"Calificación: A\")\n",
        "            elif 80 <= nota < 90:\n",
        "                print(\"Calificación: B\")\n",
        "            elif 70 <= nota < 80:\n",
        "                print(\"Calificación: C\")\n",
        "            elif 60 <= nota < 70:\n",
        "                print(\"Calificación: D\")\n",
        "            elif 0 <= nota < 60:\n",
        "                print(\"Calificación: F\")\n",
        "            else:\n",
        "                print(\"Nota fuera de rango. Ingresa una nota entre 0 y 100.\")\n",
        "                continue\n",
        "            break\n",
        "        except ValueError:\n",
        "            print(\"Por favor, ingresa una nota válida.\")\n",
        "\n",
        "# Llamar a la función\n",
        "calificacion_while()\n"
      ],
      "metadata": {
        "id": "Ut_ry9lEpxFc"
      },
      "execution_count": null,
      "outputs": []
    },
    {
      "cell_type": "code",
      "source": [
        "# Ejercicio 14: Determinar el día de la semana con \"for\"\n",
        "def dia_de_la_semana_for():\n",
        "    dias = [\"Lunes\", \"Martes\", \"Miércoles\", \"Jueves\", \"Viernes\", \"Sábado\", \"Domingo\"]\n",
        "    numero = int(input(\"Ingresa un número entre 1 y 7: \"))\n",
        "\n",
        "    for i in range(1, 8):\n",
        "        if numero == i:\n",
        "            print(f\"El día es: {dias[i-1]}\")\n",
        "            break\n",
        "\n",
        "# Llamar a la función\n",
        "dia_de_la_semana_for()\n"
      ],
      "metadata": {
        "id": "1fs19Fm7pyNs"
      },
      "execution_count": null,
      "outputs": []
    },
    {
      "cell_type": "code",
      "source": [
        "# Ejercicio 14: Determinar el día de la semana con \"while\"\n",
        "def dia_de_la_semana_while():\n",
        "    while True:\n",
        "        try:\n",
        "            numero = int(input(\"Ingresa un número entre 1 y 7: \"))\n",
        "            if numero == 1:\n",
        "                print(\"Lunes\")\n",
        "            elif numero == 2:\n",
        "                print(\"Martes\")\n",
        "            elif numero == 3:\n",
        "                print(\"Miércoles\")\n",
        "            elif numero == 4:\n",
        "                print(\"Jueves\")\n",
        "            elif numero == 5:\n",
        "                print(\"Viernes\")\n",
        "            elif numero == 6:\n",
        "                print(\"Sábado\")\n",
        "            elif numero == 7:\n",
        "                print(\"Domingo\")\n",
        "            else:\n",
        "                print(\"Número fuera de rango. Ingresa un número entre 1 y 7.\")\n",
        "                continue\n",
        "            break\n",
        "        except ValueError:\n",
        "            print(\"Por favor, ingresa un número válido.\")\n",
        "\n",
        "# Llamar a la función\n",
        "dia_de_la_semana_while()\n"
      ],
      "metadata": {
        "id": "iFAOE9dapzq1"
      },
      "execution_count": null,
      "outputs": []
    },
    {
      "cell_type": "code",
      "source": [
        "# Ejercicio 15: Validar si tres números pueden formar un triángulo y de qué tipo es con \"for\"\n",
        "def tipo_de_triangulo_for():\n",
        "    lados = []\n",
        "    for i in range(1, 4):\n",
        "        lados.append(float(input(f\"Ingrese el lado {i} del triángulo: \")))\n",
        "\n",
        "    if lados[0] <= 0 or lados[1] <= 0 or lados[2] <= 0:\n",
        "        print(\"Los lados deben ser mayores que cero.\")\n",
        "    elif lados[0] + lados[1] > lados[2] and lados[0] + lados[2] > lados[1] and lados[1] + lados[2] > lados[0]:\n",
        "        if lados[0] == lados[1] == lados[2]:\n",
        "            print(\"Es un triángulo equilátero.\")\n",
        "        elif lados[0] == lados[1] or lados[1] == lados[2] or lados[0] == lados[2]:\n",
        "            print(\"Es un triángulo isósceles.\")\n",
        "        else:\n",
        "            print(\"Es un triángulo escaleno.\")\n",
        "    else:\n",
        "        print(\"Los lados no forman un triángulo.\")\n",
        "\n",
        "# Llamar a la función\n",
        "tipo_de_triangulo_for()\n"
      ],
      "metadata": {
        "id": "_2ocCdaPqCs8"
      },
      "execution_count": null,
      "outputs": []
    },
    {
      "cell_type": "code",
      "source": [
        "# Ejercicio 15: Validar si tres números pueden formar un triángulo y de qué tipo es con \"while\"\n",
        "def tipo_de_triangulo_while():\n",
        "    while True:\n",
        "        try:\n",
        "            lado1 = float(input(\"Ingresa el primer lado del triángulo: \"))\n",
        "            lado2 = float(input(\"Ingresa el segundo lado del triángulo: \"))\n",
        "            lado3 = float(input(\"Ingresa el tercer lado del triángulo: \"))\n",
        "\n",
        "            if lado1 <= 0 or lado2 <= 0 or lado3 <= 0:\n",
        "                print(\"Los lados deben ser mayores que cero.\")\n",
        "                continue\n",
        "\n",
        "            if lado1 + lado2 > lado3 and lado1 + lado3 > lado2 and lado2 + lado3 > lado1:\n",
        "                if lado1 == lado2 == lado3:\n",
        "                    print(\"Es un triángulo equilátero.\")\n",
        "                elif lado1 == lado2 or lado1 == lado3 or lado2 == lado3:\n",
        "                    print(\"Es un triángulo isósceles.\")\n",
        "                else:\n",
        "                    print(\"Es un triángulo escaleno.\")\n",
        "            else:\n",
        "                print(\"Los lados no forman un triángulo.\")\n",
        "                continue\n",
        "            break\n",
        "        except ValueError:\n",
        "            print(\"Por favor, ingresa valores válidos.\")\n",
        "\n",
        "# Llamar a la función\n",
        "tipo_de_triangulo_while()\n"
      ],
      "metadata": {
        "id": "W3J2bAVpqEQU"
      },
      "execution_count": null,
      "outputs": []
    },
    {
      "cell_type": "code",
      "source": [
        "# Ejercicio 16: Mostrar la tabla de multiplicar de un número hasta el 10 con \"for\"\n",
        "def tabla_multiplicar_for():\n",
        "    numero = int(input(\"Ingresa un número para mostrar su tabla de multiplicar: \"))\n",
        "    for i in range(1, 11):\n",
        "        print(f\"{numero} x {i} = {numero * i}\")\n",
        "\n",
        "# Llamar a la función\n",
        "tabla_multiplicar_for()\n"
      ],
      "metadata": {
        "id": "PDsWMV7YqG-s"
      },
      "execution_count": null,
      "outputs": []
    },
    {
      "cell_type": "code",
      "source": [
        "# Ejercicio 16: Mostrar la tabla de multiplicar de un número hasta el 10 con \"while\"\n",
        "def tabla_multiplicar_while():\n",
        "    numero = int(input(\"Ingresa un número para mostrar su tabla de multiplicar: \"))\n",
        "    i = 1\n",
        "    while i <= 10:\n",
        "        print(f\"{numero} x {i} = {numero * i}\")\n",
        "        i += 1\n",
        "\n",
        "# Llamar a la función\n",
        "tabla_multiplicar_while()\n"
      ],
      "metadata": {
        "id": "7W8i8lTMqJV8"
      },
      "execution_count": null,
      "outputs": []
    },
    {
      "cell_type": "code",
      "source": [
        "# Ejercicio 17: Calcular la suma de números naturales hasta n con \"for\"\n",
        "def suma_numeros_naturales_for():\n",
        "    n = int(input(\"Ingresa un número n para calcular la suma de los primeros n números naturales: \"))\n",
        "    suma = 0\n",
        "    for i in range(1, n + 1):\n",
        "        suma += i\n",
        "    print(f\"La suma de los primeros {n} números naturales es: {suma}\")\n",
        "\n",
        "# Llamar a la función\n",
        "suma_numeros_naturales_for()\n"
      ],
      "metadata": {
        "id": "cSioacniqMFk"
      },
      "execution_count": null,
      "outputs": []
    },
    {
      "cell_type": "code",
      "source": [
        "# Ejercicio 17: Calcular la suma de números naturales hasta n con \"while\"\n",
        "def suma_numeros_naturales_while():\n",
        "    n = int(input(\"Ingresa un número n para calcular la suma de los primeros n números naturales: \"))\n",
        "    suma = 0\n",
        "    i = 1\n",
        "    while i <= n:\n",
        "        suma += i\n",
        "        i += 1\n",
        "    print(f\"La suma de los primeros {n} números naturales es: {suma}\")\n",
        "\n",
        "# Llamar a la función\n",
        "suma_numeros_naturales_while()\n"
      ],
      "metadata": {
        "id": "IPZYi3iBqN3E"
      },
      "execution_count": null,
      "outputs": []
    },
    {
      "cell_type": "code",
      "source": [
        "# Ejercicio 18: Calcular el factorial de un número con \"for\"\n",
        "def factorial_for():\n",
        "    n = int(input(\"Ingresa un número para calcular su factorial: \"))\n",
        "    if n < 0:\n",
        "        print(\"No existen factoriales de números negativos.\")\n",
        "    else:\n",
        "        factorial = 1\n",
        "        for i in range(1, n + 1):\n",
        "            factorial *= i\n",
        "        print(f\"El factorial de {n} es: {factorial}\")\n",
        "\n",
        "# Llamar a la función\n",
        "factorial_for()\n"
      ],
      "metadata": {
        "id": "H371kZGbqQoe"
      },
      "execution_count": null,
      "outputs": []
    },
    {
      "cell_type": "code",
      "source": [
        "# Ejercicio 18: Calcular el factorial de un número con \"while\"\n",
        "def factorial_while():\n",
        "    n = int(input(\"Ingresa un número para calcular su factorial: \"))\n",
        "    if n < 0:\n",
        "        print(\"No existen factoriales de números negativos.\")\n",
        "    else:\n",
        "        factorial = 1\n",
        "        i = 1\n",
        "        while i <= n:\n",
        "            factorial *= i\n",
        "            i += 1\n",
        "        print(f\"El factorial de {n} es: {factorial}\")\n",
        "\n",
        "# Llamar a la función\n",
        "factorial_while()\n"
      ],
      "metadata": {
        "id": "rw4UQOjKqSGs"
      },
      "execution_count": null,
      "outputs": []
    },
    {
      "cell_type": "code",
      "source": [
        "# Ejercicio 19: Mostrar los primeros n números de la serie Fibonacci con \"for\"\n",
        "def fibonacci_for():\n",
        "    n = int(input(\"Ingresa un número n para mostrar los primeros n números de Fibonacci: \"))\n",
        "    a, b = 0, 1\n",
        "    for i in range(n):\n",
        "        print(a, end=\" \")\n",
        "        a, b = b, a + b\n",
        "    print()  # Salto de línea\n",
        "\n",
        "# Llamar a la función\n",
        "fibonacci_for()\n"
      ],
      "metadata": {
        "id": "AH79GF0pqTlM"
      },
      "execution_count": null,
      "outputs": []
    },
    {
      "cell_type": "code",
      "source": [
        "# Ejercicio 19: Mostrar los primeros n números de la serie Fibonacci con \"while\"\n",
        "def fibonacci_while():\n",
        "    n = int(input(\"Ingresa un número n para mostrar los primeros n números de Fibonacci: \"))\n",
        "    a, b = 0, 1\n",
        "    i = 0\n",
        "    while i < n:\n",
        "        print(a, end=\" \")\n",
        "        a, b = b, a + b\n",
        "        i += 1\n",
        "    print()  # Salto de línea\n",
        "\n",
        "# Llamar a la función\n",
        "fibonacci_while()\n"
      ],
      "metadata": {
        "id": "sNMZ2yBuqU00"
      },
      "execution_count": null,
      "outputs": []
    },
    {
      "cell_type": "code",
      "source": [
        "# Ejercicio 20: Adivinar un color con un máximo de 10 intentos con \"for\"\n",
        "def adivinar_color_for():\n",
        "    colores = [input(f\"Ingrese el color {i+1}: \") for i in range(10)]\n",
        "    color_seleccionado = input(\"Adivina uno de los colores que elegí: \")\n",
        "    for intento in range(10):\n",
        "        if color_seleccionado in colores:\n",
        "            print(f\"¡Felicidades! Has adivinado el color {color_seleccionado}.\")\n",
        "            break\n",
        "        else:\n",
        "            color_seleccionado = input(\"Intenta de nuevo: \")\n",
        "    else:\n",
        "        print(\"Se acabaron los intentos. El color correcto era:\", colores[0])\n",
        "\n",
        "# Llamar a la función\n",
        "adivinar_color_for()\n"
      ],
      "metadata": {
        "id": "utcw4wPnqWVc"
      },
      "execution_count": null,
      "outputs": []
    },
    {
      "cell_type": "code",
      "source": [
        "# Ejercicio 20: Adivinar un color con un máximo de 10 intentos con \"while\"\n",
        "def adivinar_color_while():\n",
        "    colores = [input(f\"Ingrese el color {i+1}: \") for i in range(10)]\n",
        "    color_seleccionado = input(\"Adivina uno de los colores que elegí: \")\n",
        "    intentos = 0\n",
        "    while intentos < 10:\n",
        "        if color_seleccionado in colores:\n",
        "            print(f\"¡Felicidades! Has adivinado el color {color_seleccionado}.\")\n",
        "            break\n",
        "        else:\n",
        "            color_seleccionado = input(\"Intenta de nuevo: \")\n",
        "        intentos += 1\n",
        "    else:\n",
        "        print(\"Se acabaron los intentos. El color correcto era:\", colores[0])\n",
        "\n",
        "# Llamar a la función\n",
        "adivinar_color_while()\n"
      ],
      "metadata": {
        "id": "ruWDKPMoqXbs"
      },
      "execution_count": null,
      "outputs": []
    }
  ]
}