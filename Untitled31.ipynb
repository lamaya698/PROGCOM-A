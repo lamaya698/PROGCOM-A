{
  "nbformat": 4,
  "nbformat_minor": 0,
  "metadata": {
    "colab": {
      "provenance": []
    },
    "kernelspec": {
      "name": "python3",
      "display_name": "Python 3"
    },
    "language_info": {
      "name": "python"
    }
  },
  "cells": [
    {
      "cell_type": "markdown",
      "source": [
        "solucion de tarea (respaso de introduccion)"
      ],
      "metadata": {
        "id": "HjwLsWyRYDb4"
      }
    },
    {
      "cell_type": "markdown",
      "source": [
        "Ejercicio 1: Determinar si un número es par o impar."
      ],
      "metadata": {
        "id": "GFM_2f4jXHnl"
      }
    },
    {
      "cell_type": "code",
      "source": [
        "def par_impar(numero):\n",
        "    if numero % 2 == 0:\n",
        "        return \"El número es par.\"\n",
        "    else:\n",
        "        return \"El número es impar.\"\n",
        "\n",
        "# Ejemplo de uso\n",
        "print(par_impar(7))\n"
      ],
      "metadata": {
        "id": "o8lKU8fLXIW5"
      },
      "execution_count": null,
      "outputs": []
    },
    {
      "cell_type": "code",
      "source": [
        "def par_impar(numero):\n",
        "    match numero % 2:\n",
        "        case 0:\n",
        "            return \"El número es par.\"\n",
        "        case 1:\n",
        "            return \"El número es impar.\"\n",
        "\n",
        "# Ejemplo de uso\n",
        "print(par_impar(7))\n"
      ],
      "metadata": {
        "id": "uIYLsPKDXLVh"
      },
      "execution_count": null,
      "outputs": []
    },
    {
      "cell_type": "markdown",
      "source": [
        "Ejercicio 2: Determinar si un año es bisiesto."
      ],
      "metadata": {
        "id": "sjhEvihAXNLZ"
      }
    },
    {
      "cell_type": "code",
      "source": [
        "def es_bisiesto(anio):\n",
        "    if (anio % 4 == 0 and anio % 100 != 0) or (anio % 400 == 0):\n",
        "        return f\"{anio} es un año bisiesto.\"\n",
        "    else:\n",
        "        return f\"{anio} no es un año bisiesto.\"\n",
        "\n",
        "# Ejemplo de uso\n",
        "print(es_bisiesto(2024))\n"
      ],
      "metadata": {
        "id": "QIfJEFIyXPwW"
      },
      "execution_count": null,
      "outputs": []
    },
    {
      "cell_type": "code",
      "source": [
        "def es_bisiesto(anio):\n",
        "    match (anio % 4 == 0, anio % 100 != 0, anio % 400 == 0):\n",
        "        case (True, True, _):\n",
        "            return f\"{anio} es un año bisiesto.\"\n",
        "        case (True, False, True):\n",
        "            return f\"{anio} es un año bisiesto.\"\n",
        "        case _:\n",
        "            return f\"{anio} no es un año bisiesto.\"\n",
        "\n",
        "# Ejemplo de uso\n",
        "print(es_bisiesto(2024))\n"
      ],
      "metadata": {
        "id": "0fQCWTPhXRgB"
      },
      "execution_count": null,
      "outputs": []
    },
    {
      "cell_type": "markdown",
      "source": [
        "Ejercicio 3: Determinar si una persona pertenece a la tercera edad."
      ],
      "metadata": {
        "id": "636AzbMJXVgp"
      }
    },
    {
      "cell_type": "code",
      "source": [
        "def tercera_edad(nombre, edad):\n",
        "    if edad >= 70:\n",
        "        return f\"{nombre}, se le da prioridad en la fila.\"\n",
        "    else:\n",
        "        return f\"{nombre}, no pertenece a la tercera edad.\"\n",
        "\n",
        "# Ejemplo de uso\n",
        "print(tercera_edad(\"Juan\", 75))\n"
      ],
      "metadata": {
        "id": "Cl2WJF_jXctR"
      },
      "execution_count": null,
      "outputs": []
    },
    {
      "cell_type": "code",
      "source": [
        "def tercera_edad(nombre, edad):\n",
        "    match edad >= 70:\n",
        "        case True:\n",
        "            return f\"{nombre}, se le da prioridad en la fila.\"\n",
        "        case False:\n",
        "            return f\"{nombre}, no pertenece a la tercera edad.\"\n",
        "\n",
        "# Ejemplo de uso\n",
        "print(tercera_edad(\"Juan\", 75))\n"
      ],
      "metadata": {
        "id": "IZtExWP2Xfe5"
      },
      "execution_count": null,
      "outputs": []
    },
    {
      "cell_type": "markdown",
      "source": [
        "Ejercicio 4: Comparar tres números y mostrar el mayor."
      ],
      "metadata": {
        "id": "b51gyowDXiPx"
      }
    },
    {
      "cell_type": "code",
      "source": [
        "def mayor_numero(a, b, c):\n",
        "    if a >= b and a >= c:\n",
        "        return f\"El número mayor es: {a}\"\n",
        "    elif b >= a and b >= c:\n",
        "        return f\"El número mayor es: {b}\"\n",
        "    else:\n",
        "        return f\"El número mayor es: {c}\"\n",
        "\n",
        "# Ejemplo de uso\n",
        "print(mayor_numero(5, 8, 3))\n"
      ],
      "metadata": {
        "id": "4Z3nLBxLXiwp"
      },
      "execution_count": null,
      "outputs": []
    },
    {
      "cell_type": "code",
      "source": [
        "def mayor_numero(a, b, c):\n",
        "    match (a >= b, a >= c):\n",
        "        case (True, True):\n",
        "            return f\"El número mayor es: {a}\"\n",
        "        case (False, _):\n",
        "            match b >= c:\n",
        "                case True:\n",
        "                    return f\"El número mayor es: {b}\"\n",
        "                case False:\n",
        "                    return f\"El número mayor es: {c}\"\n",
        "\n",
        "# Ejemplo de uso\n",
        "print(mayor_numero(5, 8, 3))\n"
      ],
      "metadata": {
        "id": "MD4q_ta0Xk9i"
      },
      "execution_count": null,
      "outputs": []
    },
    {
      "cell_type": "markdown",
      "source": [
        "Ejercicio 5: Determinar el tipo de triángulo según sus lados."
      ],
      "metadata": {
        "id": "w5ilbJVTXqLZ"
      }
    },
    {
      "cell_type": "code",
      "source": [
        "def tipo_triangulo(lado1, lado2, lado3):\n",
        "    if lado1 == lado2 == lado3:\n",
        "        return \"El triángulo es equilátero.\"\n",
        "    elif lado1 == lado2 or lado1 == lado3 or lado2 == lado3:\n",
        "        return \"El triángulo es isósceles.\"\n",
        "    else:\n",
        "        return \"El triángulo es escaleno.\"\n",
        "\n",
        "# Ejemplo de uso\n",
        "print(tipo_triangulo(5, 5, 7))\n"
      ],
      "metadata": {
        "id": "XpJnboX2Xqsx"
      },
      "execution_count": null,
      "outputs": []
    },
    {
      "cell_type": "code",
      "source": [
        "def tipo_triangulo(lado1, lado2, lado3):\n",
        "    match (lado1, lado2, lado3):\n",
        "        case (x, x, x):\n",
        "            return \"El triángulo es equilátero.\"\n",
        "        case (x, x, _):\n",
        "            return \"El triángulo es isósceles.\"\n",
        "        case (_, _, _):\n",
        "            return \"El triángulo es escaleno.\"\n",
        "\n",
        "# Ejemplo de uso\n",
        "print(tipo_triangulo(5, 5, 7))\n"
      ],
      "metadata": {
        "id": "AL0ccbWKX4Bq"
      },
      "execution_count": null,
      "outputs": []
    }
  ]
}