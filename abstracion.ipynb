{
  "nbformat": 4,
  "nbformat_minor": 0,
  "metadata": {
    "colab": {
      "provenance": [],
      "authorship_tag": "ABX9TyMo+09b3Z0vfowBBAYDBJxh",
      "include_colab_link": true
    },
    "kernelspec": {
      "name": "python3",
      "display_name": "Python 3"
    },
    "language_info": {
      "name": "python"
    }
  },
  "cells": [
    {
      "cell_type": "markdown",
      "metadata": {
        "id": "view-in-github",
        "colab_type": "text"
      },
      "source": [
        "<a href=\"https://colab.research.google.com/github/lamaya698/PROGCOM-A/blob/main/abstracion.ipynb\" target=\"_parent\"><img src=\"https://colab.research.google.com/assets/colab-badge.svg\" alt=\"Open In Colab\"/></a>"
      ]
    },
    {
      "cell_type": "code",
      "execution_count": 6,
      "metadata": {
        "colab": {
          "base_uri": "https://localhost:8080/"
        },
        "id": "J1mJc_T-bzbs",
        "outputId": "247b2d70-fe84-4166-91d5-7e1c92b86f05"
      },
      "outputs": [
        {
          "output_type": "stream",
          "name": "stdout",
          "text": [
            "Ana - Puntaje: 13 - ✅ Aprobado\n",
            "Luis - Puntaje: 7 - ✅ Aprobado\n",
            "Carlos - Puntaje: 14 - ✅ Aprobado\n",
            "María - Puntaje: 8 - ✅ Aprobado\n",
            "\n",
            "Total de personas con crédito aprobado: 4 de 4\n"
          ]
        }
      ],
      "source": [
        "# Clase que representa a una persona y sus datos\n",
        "class Persona:\n",
        "    def __init__(self, nombre, otras_tarjetas, reportado_riesgo, contrato,\n",
        "                 credito_otras_entidades, credito_misma_entidad, edad):\n",
        "        self.nombre = nombre\n",
        "        self.otras_tarjetas = otras_tarjetas\n",
        "        self.reportado_riesgo = reportado_riesgo\n",
        "        self.contrato = contrato  # 'definido' o 'indefinido'\n",
        "        self.credito_otras_entidades = credito_otras_entidades\n",
        "        self.credito_misma_entidad = credito_misma_entidad\n",
        "        self.edad = edad\n",
        "\n",
        "    def calcular_puntaje(self):\n",
        "        puntaje = 0\n",
        "\n",
        "        # a\n",
        "        if self.otras_tarjetas:\n",
        "            puntaje += 1\n",
        "\n",
        "        # b\n",
        "        if not self.reportado_riesgo:\n",
        "            puntaje += 3\n",
        "\n",
        "        # c y d\n",
        "        if self.contrato == \"definido\":\n",
        "            puntaje += 2\n",
        "        elif self.contrato == \"indefinido\":\n",
        "            puntaje += 3\n",
        "\n",
        "        # e\n",
        "        if self.credito_otras_entidades:\n",
        "            puntaje += 2\n",
        "\n",
        "        # f\n",
        "        if self.credito_misma_entidad:\n",
        "            puntaje += 3\n",
        "\n",
        "        # g-j (edad)\n",
        "        if 18 <= self.edad <= 22:\n",
        "            puntaje += 2\n",
        "        elif 23 <= self.edad <= 30:\n",
        "            puntaje += 4\n",
        "        elif 31 <= self.edad <= 40:\n",
        "            puntaje += 3\n",
        "        elif self.edad > 41:\n",
        "            puntaje += 1\n",
        "\n",
        "        return puntaje\n",
        "\n",
        "    def obtener_resultado(self):\n",
        "        puntaje = self.calcular_puntaje()\n",
        "        return {\n",
        "            \"nombre\": self.nombre,\n",
        "            \"puntaje\": puntaje,\n",
        "            \"aprobado\": puntaje >= 6\n",
        "        }\n",
        "\n",
        "# Lista de personas a evaluar\n",
        "personas = [\n",
        "    Persona(\"Ana\", True, False, \"indefinido\", True, False, 25),\n",
        "    Persona(\"Luis\", False, True, \"definido\", False, True, 20),\n",
        "    Persona(\"Carlos\", False, False, \"indefinido\", True, True, 35),\n",
        "    Persona(\"María\", True, False, \"definido\", False, False, 19),\n",
        "]\n",
        "\n",
        "# Evaluar a cada persona y mostrar resultados\n",
        "resultados = [persona.obtener_resultado() for persona in personas]\n",
        "\n",
        "# Imprimir resultados individuales\n",
        "for r in resultados:\n",
        "    estado = \"✅ Aprobado\" if r[\"aprobado\"] else \"❌ No aprobado\"\n",
        "    print(f\"{r['nombre']} - Puntaje: {r['puntaje']} - {estado}\")\n",
        "\n",
        "# Total de personas con crédito aprobado\n",
        "total_aprobados = sum(r[\"aprobado\"] for r in resultados)\n",
        "print(f\"\\nTotal de personas con crédito aprobado: {total_aprobados} de {len(personas)}\")\n"
      ]
    }
  ]
}