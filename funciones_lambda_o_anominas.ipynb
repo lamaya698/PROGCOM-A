{
  "nbformat": 4,
  "nbformat_minor": 0,
  "metadata": {
    "colab": {
      "provenance": []
    },
    "kernelspec": {
      "name": "python3",
      "display_name": "Python 3"
    },
    "language_info": {
      "name": "python"
    }
  },
  "cells": [
    {
      "cell_type": "code",
      "execution_count": null,
      "metadata": {
        "id": "CjuKHzr-ydgh"
      },
      "outputs": [],
      "source": [
        "#lambda o funciones anonimas\n",
        "* declaran funciones pequeñas, sencillas y de acceso rapido\n",
        "*puede contener solo **UNA** expresion, por loq ue no son las mas adecuadas para que funcione con instrucciones de flujo\n",
        "*las funciones lambda pueden tener n numeros de argumentos pero solo una expresion.\n",
        "se define"
      ]
    },
    {
      "cell_type": "code",
      "source": [
        "#funcion tradicional para calcular el cuadrado de un numero:\n",
        "def cuadrado(num)\n",
        "   return num **2\n",
        "  print(cuadrado(10))"
      ],
      "metadata": {
        "id": "t3Kn63q6zfFH"
      },
      "execution_count": null,
      "outputs": []
    },
    {
      "cell_type": "code",
      "source": [
        "#funcion lambda para calcular el cuadrado de un numero:\n",
        "}cuadrado = lambda num: num **2\n",
        "print(cuadrado(10))\n"
      ],
      "metadata": {
        "id": "hJJO4YAW0SST"
      },
      "execution_count": null,
      "outputs": []
    },
    {
      "cell_type": "code",
      "source": [
        "#funcion que si un numero elevado a la n es mayor que 10 me regrese una verdadero y si no un fasle\n",
        "def numero(x,n)\n",
        "  if x**n > 10:\n",
        "    return True\n",
        "  else:\n",
        "    return False\n",
        "print(numero(2,3))"
      ],
      "metadata": {
        "id": "ZDhWtk8E0rl1"
      },
      "execution_count": null,
      "outputs": []
    },
    {
      "cell_type": "code",
      "source": [
        "print(numero(3,2))"
      ],
      "metadata": {
        "id": "zW9CfZD31P-y"
      },
      "execution_count": null,
      "outputs": []
    },
    {
      "cell_type": "code",
      "source": [
        "#funcion lambda que si un numero elevado a la n es mayor que 10 me regrese una verdadero y si no un fasle\n",
        "cuadradon= lambda x,n: True if x**n > 10 else False\n",
        "print(cuadradon(2,3))"
      ],
      "metadata": {
        "id": "A1xRFo6R1cfU"
      },
      "execution_count": null,
      "outputs": []
    },
    {
      "cell_type": "code",
      "source": [
        "def clima(temp)\n",
        "ttupla=[]\n",
        "for i in temp:\n",
        "  ir i<20.0:   resultado. append((i,\"temperatura fria\"))\n",
        "  elif i>30: resultado. append((i,\"temperatura caliente\"))\n",
        "  else: resultado. append((i,\"temperatura normal\"))\n",
        "  return resultado"
      ],
      "metadata": {
        "id": "gbZvE1pg19oa"
      },
      "execution_count": null,
      "outputs": []
    },
    {
      "cell_type": "markdown",
      "source": [
        "declarando map\n",
        "map(funcion a mapear,parametros a maperar)\n"
      ],
      "metadata": {
        "id": "TzCcJfEq6mim"
      }
    },
    {
      "cell_type": "code",
      "source": [
        "#mismos ejercicios,\n",
        "def clima2(11,12)\n",
        "  y2=clima(12)\n",
        "  return dict(map (lambda))\n",
        "  clima2(dias,temp)\n",
        ""
      ],
      "metadata": {
        "id": "0JnxStBU6T1f"
      },
      "execution_count": null,
      "outputs": []
    },
    {
      "cell_type": "code",
      "source": [
        ""
      ],
      "metadata": {
        "id": "YeaioYhJ9dl2"
      },
      "execution_count": null,
      "outputs": []
    },
    {
      "cell_type": "markdown",
      "source": [],
      "metadata": {
        "id": "xHSxKrdoymAU"
      }
    }
  ]
}