{
  "nbformat": 4,
  "nbformat_minor": 0,
  "metadata": {
    "colab": {
      "provenance": []
    },
    "kernelspec": {
      "name": "python3",
      "display_name": "Python 3"
    },
    "language_info": {
      "name": "python"
    }
  },
  "cells": [
    {
      "cell_type": "code",
      "execution_count": null,
      "metadata": {
        "id": "kBLoDQbfNCev"
      },
      "outputs": [],
      "source": [
        "# Función normal para mostrar las tablas de multiplicar\n",
        "def mostrar_tablas():\n",
        "    for i in range(1, 11):\n",
        "        print(f\"Tabla del {i}:\")\n",
        "        for j in range(1, 11):\n",
        "            print(f\"{i} x {j} = {i * j}\")\n",
        "        print()\n",
        "\n",
        "# Ejemplo de uso para función normal\n",
        "print(\"Usando función normal:\")\n",
        "mostrar_tablas()\n"
      ]
    },
    {
      "cell_type": "code",
      "source": [
        "# Función lambda para generar las tablas de multiplicar\n",
        "tabla_lambda = lambda: [print(f\"Tabla del {i}:\\n\" + \"\\n\".join([f\"{i} x {j} = {i * j}\" for j in range(1, 11)]) + \"\\n\") for i in range(1, 11)]\n",
        "\n",
        "# Ejemplo de uso para función lambda\n",
        "print(\"Usando función lambda:\")\n",
        "tabla_lambda()\n"
      ],
      "metadata": {
        "id": "IOssp902RcNR"
      },
      "execution_count": null,
      "outputs": []
    },
    {
      "cell_type": "code",
      "source": [
        "# Función normal para encontrar números perfectos hasta n\n",
        "def numeros_perfectos(n):\n",
        "    perfectos = []\n",
        "    for num in range(1, n + 1):\n",
        "        suma_divisores = sum(i for i in range(1, num) if num % i == 0)\n",
        "        if suma_divisores == num:\n",
        "            perfectos.append(num)\n",
        "    return perfectos\n",
        "\n",
        "# Ejemplo de uso para función normal\n",
        "n = 10000\n",
        "print(\"Números perfectos hasta\", n, \":\", numeros_perfectos(n))\n"
      ],
      "metadata": {
        "id": "ZZdrFHBzR6v4"
      },
      "execution_count": null,
      "outputs": []
    },
    {
      "cell_type": "code",
      "source": [
        "# Función lambda para encontrar números perfectos hasta n\n",
        "perfectos_lambda = lambda n: [num for num in range(1, n + 1) if sum(i for i in range(1, num) if num % i == 0) == num]\n",
        "\n",
        "# Ejemplo de uso para función lambda\n",
        "print(\"Números perfectos hasta\", n, \":\", perfectos_lambda(n))"
      ],
      "metadata": {
        "id": "cCwZlIEyR-Xv"
      },
      "execution_count": null,
      "outputs": []
    },
    {
      "cell_type": "code",
      "source": [
        "# Función normal para generar un patrón de diamante\n",
        "def diamante(n):\n",
        "    if n % 2 == 0:\n",
        "        n += 1  # Asegurar que n sea impar\n",
        "\n",
        "    for i in range(1, n + 1, 2):\n",
        "        print(\" \" * ((n - i) // 2) + \"*\" * i)\n",
        "    for i in range(n - 2, 0, -2):\n",
        "        print(\" \" * ((n - i) // 2) + \"*\" * i)\n",
        "\n",
        "# Ejemplo de uso para función normal\n",
        "n = 7\n",
        "print(\"Usando función normal:\")\n",
        "diamante(n)"
      ],
      "metadata": {
        "id": "nHMLQ4YUSJYZ"
      },
      "execution_count": null,
      "outputs": []
    },
    {
      "cell_type": "code",
      "source": [
        "# Función lambda para generar un patrón de diamante\n",
        "diamante_lambda = lambda n: [print(\" \" * ((n - i) // 2) + \"*\" * i) for i in list(range(1, n + 1, 2)) + list(range(n - 2, 0, -2))]\n",
        "\n",
        "# Ejemplo de uso para función lambda\n",
        "print(\"Usando función lambda:\")\n",
        "diamante_lambda(n)\n"
      ],
      "metadata": {
        "id": "pQ5ge6YYSM2E"
      },
      "execution_count": null,
      "outputs": []
    },
    {
      "cell_type": "code",
      "source": [
        "# Función normal para encontrar números Armstrong hasta n\n",
        "def numeros_armstrong(n):\n",
        "    armstrong = []\n",
        "    for num in range(n + 1):\n",
        "        suma = sum(int(digit) ** len(str(num)) for digit in str(num))\n",
        "        if suma == num:\n",
        "            armstrong.append(num)\n",
        "    return armstrong\n",
        "\n",
        "# Ejemplo de uso para función normal\n",
        "n = 10000\n",
        "print(\"Números Armstrong hasta\", n, \":\", numeros_armstrong(n))\n"
      ],
      "metadata": {
        "id": "Kp9DNVhGSTw3"
      },
      "execution_count": null,
      "outputs": []
    },
    {
      "cell_type": "code",
      "source": [
        "# Función lambda para encontrar números Armstrong hasta n\n",
        "armstrong_lambda = lambda n: [num for num in range(n + 1) if sum(int(d) ** len(str(num)) for d in str(num)) == num]\n",
        "\n",
        "# Ejemplo de uso para función lambda\n",
        "print(\"Números Armstrong hasta\", n, \":\", armstrong_lambda(n))\n"
      ],
      "metadata": {
        "id": "9TB6bJgzSVGI"
      },
      "execution_count": null,
      "outputs": []
    },
    {
      "cell_type": "code",
      "source": [
        "import time\n",
        "\n",
        "# Función normal para simular un reloj digital\n",
        "def reloj_digital(segundos):\n",
        "    for _ in range(segundos):\n",
        "        hora = time.strftime(\"%H:%M:%S\")\n",
        "        print(hora, end=\"\\r\")\n",
        "        time.sleep(1)\n",
        "\n",
        "# Ejemplo de uso para función normal\n",
        "print(\"Usando función normal:\")\n",
        "reloj_digital(10)"
      ],
      "metadata": {
        "id": "9K0bd0NJSf5n"
      },
      "execution_count": null,
      "outputs": []
    },
    {
      "cell_type": "code",
      "source": [
        "# Función lambda para simular un reloj digital\n",
        "reloj_lambda = lambda segundos: [time.sleep(1) or print(time.strftime(\"%H:%M:%S\"), end=\"\\r\") for _ in range(segundos)]\n",
        "\n",
        "# Ejemplo de uso para función lambda\n",
        "print(\"Usando función lambda:\")\n",
        "reloj_lambda(10)\n"
      ],
      "metadata": {
        "id": "685fnNA2Sh3N"
      },
      "execution_count": null,
      "outputs": []
    }
  ]
}